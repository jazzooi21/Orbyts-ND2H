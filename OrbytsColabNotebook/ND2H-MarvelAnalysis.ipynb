{
 "cells": [
  {
   "cell_type": "markdown",
   "metadata": {},
   "source": [
    "## Orbyts 2024 doubly-deuterated ammonia MARVEL Project\n",
    "This shall be our colab notebook which we can then subsequently upload to our colab environment when ready."
   ]
  },
  {
   "cell_type": "code",
   "execution_count": null,
   "metadata": {},
   "outputs": [],
   "source": []
  }
 ],
 "metadata": {
  "language_info": {
   "name": "python"
  }
 },
 "nbformat": 4,
 "nbformat_minor": 2
}
